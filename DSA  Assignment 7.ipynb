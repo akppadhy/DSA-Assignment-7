{
 "cells": [
  {
   "cell_type": "code",
   "execution_count": null,
   "id": "fc73403d-a1ce-4c6c-979f-ad762aa34b21",
   "metadata": {},
   "outputs": [],
   "source": [
    "#1. Given two strings s and t, determine if they are isomorphic.\n",
    "\n",
    "#Two strings s and t are isomorphic if the characters in s can be replaced to get t.\n",
    "\n",
    "#All occurrences of a character must be replaced with another character while preserving the order of characters. No two characters may map to the same character, but a character may map to itself.\n",
    "\n",
    "#Example 1:\n",
    "\n",
    "#Input: s = \"egg\", t = \"add\"\n",
    "\n",
    "#Output: true"
   ]
  },
  {
   "cell_type": "code",
   "execution_count": 1,
   "id": "08aac663-ea14-4591-b557-9bab366e6166",
   "metadata": {},
   "outputs": [
    {
     "name": "stdout",
     "output_type": "stream",
     "text": [
      "True\n"
     ]
    }
   ],
   "source": [
    "def isIsomorphic(s, t):\n",
    "    if len(s) != len(t):\n",
    "        return False\n",
    "\n",
    "    s_map = [-1] * 256\n",
    "    t_map = [-1] * 256\n",
    "\n",
    "    for i in range(len(s)):\n",
    "        s_char = ord(s[i])\n",
    "        t_char = ord(t[i])\n",
    "\n",
    "        if s_map[s_char] == -1 and t_map[t_char] == -1:\n",
    "            s_map[s_char] = t_char\n",
    "            t_map[t_char] = s_char\n",
    "        elif s_map[s_char] != t_char or t_map[t_char] != s_char:\n",
    "            return False\n",
    "\n",
    "    return True\n",
    "\n",
    "# Test Function\n",
    "s = \"egg\"\n",
    "t = \"add\"\n",
    "print(isIsomorphic(s, t))"
   ]
  },
  {
   "cell_type": "code",
   "execution_count": null,
   "id": "d0af167d-763a-436c-b879-b36a05720746",
   "metadata": {},
   "outputs": [],
   "source": [
    "#2. Given a string num which represents an integer, return true if num is a strobogrammatic number**.\n",
    "\n",
    "#A strobogrammatic number is a number that looks the same when rotated 180 degrees (looked at upside down).\n",
    "\n",
    "#Example 1:\n",
    "\n",
    "#Input: num = \"69\"\n",
    "\n",
    "#Output:\n",
    "\n",
    "#true\n",
    "\n"
   ]
  },
  {
   "cell_type": "code",
   "execution_count": 2,
   "id": "a4a732dd-162c-48bc-aad7-85f026f3a5c8",
   "metadata": {},
   "outputs": [
    {
     "name": "stdout",
     "output_type": "stream",
     "text": [
      "True\n"
     ]
    }
   ],
   "source": [
    "def isStrobogrammatic(num):\n",
    "    left = 0\n",
    "    right = len(num) - 1\n",
    "\n",
    "    while left <= right:\n",
    "        if num[left] != num[right] and num[left] + num[right] not in [\"69\", \"96\", \"88\"]:\n",
    "            return False\n",
    "        left += 1\n",
    "        right -= 1\n",
    "\n",
    "    return True\n",
    "\n",
    "# Test Function\n",
    "num = \"69\"\n",
    "print(isStrobogrammatic(num))"
   ]
  },
  {
   "cell_type": "code",
   "execution_count": null,
   "id": "748c31e9-f5f4-4e7b-9d30-9f0c9935c5a9",
   "metadata": {},
   "outputs": [],
   "source": [
    "#3. Given two non-negative integers, num1 and num2 represented as string, return the sum of num1 and num2 as a string.\n",
    "\n",
    "#You must solve the problem without using any built-in library for handling large integers (such as BigInteger). You must also not convert the inputs to integers directly.\n",
    "\n",
    "#Example 1:\n",
    "\n",
    "#Input: num1 = \"11\", num2 = \"123\"\n",
    "\n",
    "#Output:\n",
    "\n",
    "#\"134\""
   ]
  },
  {
   "cell_type": "code",
   "execution_count": 3,
   "id": "7fa47352-f4fa-468f-acdd-c25cc53bbb9b",
   "metadata": {},
   "outputs": [
    {
     "name": "stdout",
     "output_type": "stream",
     "text": [
      "134\n"
     ]
    }
   ],
   "source": [
    "def addStrings(num1, num2):\n",
    "    p1 = len(num1) - 1\n",
    "    p2 = len(num2) - 1\n",
    "    carry = 0\n",
    "    result = []\n",
    "\n",
    "    while p1 >= 0 or p2 >= 0 or carry > 0:\n",
    "        x = 0 if p1 < 0 else int(num1[p1])\n",
    "        y = 0 if p2 < 0 else int(num2[p2])\n",
    "        temp = x + y + carry\n",
    "        result.insert(0, str(temp % 10))\n",
    "        carry = temp // 10\n",
    "        p1 -= 1\n",
    "        p2 -= 1\n",
    "\n",
    "    return \"\".join(result)\n",
    "\n",
    "# Test Functiion\n",
    "num1 = \"11\"\n",
    "num2 = \"123\"\n",
    "print(addStrings(num1, num2))"
   ]
  },
  {
   "cell_type": "code",
   "execution_count": null,
   "id": "4f712b38-f239-4a46-ac33-e8e9d690fa37",
   "metadata": {},
   "outputs": [],
   "source": [
    "#4. Given a string s, reverse the order of characters in each word within a sentence while still preserving whitespace and initial word order.\n",
    "\n",
    "#Example 1:\n",
    "\n",
    "#Input: s = \"Let's take LeetCode contest\"\n",
    "\n",
    "#Output: \"s'teL ekat edoCteeL tsetnoc\""
   ]
  },
  {
   "cell_type": "code",
   "execution_count": 4,
   "id": "5da09ab6-8bdf-45ba-99f7-e01e1ebfd97e",
   "metadata": {},
   "outputs": [
    {
     "name": "stdout",
     "output_type": "stream",
     "text": [
      "s'teL ekat edoCteeL tsetnoc\n"
     ]
    }
   ],
   "source": [
    "def reverseWords(s):\n",
    "    chars = list(s)\n",
    "    start = 0\n",
    "    end = 0\n",
    "\n",
    "    for i, c in enumerate(chars):\n",
    "        if c != ' ':\n",
    "            end = i\n",
    "        if c == ' ' or i == len(chars) - 1:\n",
    "            while start < end:\n",
    "                chars[start], chars[end] = chars[end], chars[start]\n",
    "                start += 1\n",
    "                end -= 1\n",
    "            start = i + 1\n",
    "\n",
    "    return ''.join(chars)\n",
    "\n",
    "# Test Function\n",
    "s = \"Let's take LeetCode contest\"\n",
    "print(reverseWords(s)) "
   ]
  },
  {
   "cell_type": "code",
   "execution_count": null,
   "id": "3ea9c896-0bad-44bc-8042-5ac324295cee",
   "metadata": {},
   "outputs": [],
   "source": [
    "#5. Given a string s and an integer k, reverse the first k characters for every 2k characters counting from the start of the string.\n",
    "\n",
    "#If there are fewer than k characters left, reverse all of them. If there are less than 2k but greater than or equal to k characters, then reverse the first k characters and leave the other as original.\n",
    "\n",
    "#Example 1:\n",
    "\n",
    "#Input: s = \"abcdefg\", k = 2\n",
    "\n",
    "#Output:\n",
    "\n",
    "#\"bacdfeg\""
   ]
  },
  {
   "cell_type": "code",
   "execution_count": 5,
   "id": "dcb4b16e-7388-46cc-9d87-d18c7eb22bdc",
   "metadata": {},
   "outputs": [
    {
     "name": "stdout",
     "output_type": "stream",
     "text": [
      "bacdfeg\n"
     ]
    }
   ],
   "source": [
    "def reverseStr(s, k):\n",
    "    chars = list(s)\n",
    "\n",
    "    for i in range(0, len(s), 2 * k):\n",
    "        start = i\n",
    "        end = min(i + k - 1, len(s) - 1)\n",
    "        while start < end:\n",
    "            chars[start], chars[end] = chars[end], chars[start]\n",
    "            start += 1\n",
    "            end -= 1\n",
    "\n",
    "    return ''.join(chars)\n",
    "\n",
    "# Test Function\n",
    "s = \"abcdefg\"\n",
    "k = 2\n",
    "print(reverseStr(s, k)) "
   ]
  },
  {
   "cell_type": "code",
   "execution_count": null,
   "id": "dee67b74-0d23-4b65-8c8b-a69a5dbc7726",
   "metadata": {},
   "outputs": [],
   "source": [
    "#6. Given two strings s and goal, return true if and only if s can become goal after some number of shifts* on* s.\n",
    "\n",
    "#A shift on s consists of moving the leftmost character of s to the rightmost position.\n",
    "\n",
    "#For example, if s = \"abcde\", then it will be \"bcdea\" after one shift.\n",
    "#Example 1:\n",
    "\n",
    "#Input: s = \"abcde\", goal = \"cdeab\"\n",
    "\n",
    "#Output:\n",
    "\n",
    "#true"
   ]
  },
  {
   "cell_type": "code",
   "execution_count": 6,
   "id": "0aa911a3-01d4-4136-85f2-9d3d4fff4735",
   "metadata": {},
   "outputs": [
    {
     "name": "stdout",
     "output_type": "stream",
     "text": [
      "True\n"
     ]
    }
   ],
   "source": [
    "def rotateString(s, goal):\n",
    "    if len(s) != len(goal):\n",
    "        return False\n",
    "\n",
    "    s2 = s + s\n",
    "\n",
    "    def computeLPSArray(pattern):\n",
    "        length = 0\n",
    "        index = 1\n",
    "        lps = [0] * len(pattern)\n",
    "\n",
    "        while index < len(pattern):\n",
    "            if pattern[index] == pattern[length]:\n",
    "                length += 1\n",
    "                lps[index] = length\n",
    "                index += 1\n",
    "            elif length != 0:\n",
    "                length = lps[length - 1]\n",
    "            else:\n",
    "                lps[index] = 0\n",
    "                index += 1\n",
    "\n",
    "        return lps\n",
    "\n",
    "    lps = computeLPSArray(goal)\n",
    "\n",
    "    i = 0\n",
    "    j = 0\n",
    "\n",
    "    while i < len(s2):\n",
    "        if s2[i] == goal[j]:\n",
    "            i += 1\n",
    "            j += 1\n",
    "            if j == len(goal):\n",
    "                return True\n",
    "        elif j != 0:\n",
    "            j = lps[j - 1]\n",
    "        else:\n",
    "            i += 1\n",
    "\n",
    "    return False\n",
    "\n",
    "# Test Function\n",
    "s = \"abcde\"\n",
    "goal = \"cdeab\"\n",
    "print(rotateString(s, goal))"
   ]
  },
  {
   "cell_type": "code",
   "execution_count": null,
   "id": "a92d3b3b-43bd-4c9f-a4e1-4428de2a8284",
   "metadata": {},
   "outputs": [],
   "source": [
    "#7. Given two strings s and t, return true if they are equal when both are typed into empty text editors. '#' means a backspace character.\n",
    "\n",
    "#Note that after backspacing an empty text, the text will continue empty.\n",
    "\n",
    "#Example 1:\n",
    "\n",
    "#Input: s = \"ab#c\", t = \"ad#c\"\n",
    "\n",
    "#Output: true\n",
    "\n",
    "#Explanation:\n",
    "\n",
    "#Both s and t become \"ac\"."
   ]
  },
  {
   "cell_type": "code",
   "execution_count": 7,
   "id": "3ae02a25-be9e-4397-8b0b-2ef28061a970",
   "metadata": {},
   "outputs": [
    {
     "name": "stdout",
     "output_type": "stream",
     "text": [
      "True\n"
     ]
    }
   ],
   "source": [
    "def backspaceCompare(s, t):\n",
    "    def getValidCharIndex(string, index):\n",
    "        skip = 0\n",
    "        while index >= 0:\n",
    "            if string[index] == '#':\n",
    "                skip += 1\n",
    "            elif skip == 0:\n",
    "                return index\n",
    "            else:\n",
    "                skip -= 1\n",
    "            index -= 1\n",
    "        return -1\n",
    "\n",
    "    i = len(s) - 1\n",
    "    j = len(t) - 1\n",
    "\n",
    "    while i >= 0 or j >= 0:\n",
    "        i = getValidCharIndex(s, i)\n",
    "        j = getValidCharIndex(t, j)\n",
    "\n",
    "        if (i >= 0 and j >= 0) and s[i] != t[j]:\n",
    "            return False\n",
    "\n",
    "        if (i >= 0) != (j >= 0):\n",
    "            return False\n",
    "\n",
    "        i -= 1\n",
    "        j -= 1\n",
    "\n",
    "    return True\n",
    "\n",
    "# Test Function\n",
    "s = \"ab#c\"\n",
    "t = \"ad#c\"\n",
    "print(backspaceCompare(s, t))"
   ]
  },
  {
   "cell_type": "code",
   "execution_count": null,
   "id": "ec4258b7-c00d-4efd-b3c6-5e0bad1a2a11",
   "metadata": {},
   "outputs": [],
   "source": [
    "#8. You are given an array coordinates, coordinates[i] = [x, y], where [x, y] represents the coordinate of a point. Check if these points make a straight line in the XY plane.\n",
    "\n",
    "#Example 1: Input: coordinates = [[1,2],[2,3],[3,4],[4,5],[5,6],[6,7]]\n",
    "\n",
    "#Output: true"
   ]
  },
  {
   "cell_type": "code",
   "execution_count": 8,
   "id": "9cb6e332-4a5e-4da3-8af8-6132fed87038",
   "metadata": {},
   "outputs": [
    {
     "name": "stdout",
     "output_type": "stream",
     "text": [
      "True\n"
     ]
    }
   ],
   "source": [
    "def checkStraightLine(coordinates):\n",
    "    def crossProduct(x1, y1, x2, y2, x3, y3):\n",
    "        return (x2 - x1) * (y3 - y1) - (y2 - y1) * (x3 - x1)\n",
    "\n",
    "    x1, y1 = coordinates[0]\n",
    "    x2, y2 = coordinates[1]\n",
    "    x3, y3 = coordinates[2]\n",
    "    initial_cross_product = crossProduct(x1, y1, x2, y2, x3, y3)\n",
    "\n",
    "    for i in range(3, len(coordinates)):\n",
    "        xi, yi = coordinates[i]\n",
    "        new_cross_product = crossProduct(x1, y1, x2, y2, xi, yi)\n",
    "        if new_cross_product != initial_cross_product:\n",
    "            return False\n",
    "\n",
    "    return True\n",
    "\n",
    "# Test Function\n",
    "coordinates = [[1, 2], [2, 3], [3, 4], [4, 5], [5, 6], [6, 7]]\n",
    "print(checkStraightLine(coordinates))  # Output: True"
   ]
  },
  {
   "cell_type": "code",
   "execution_count": null,
   "id": "1154c754-1ce3-45f5-88b2-1b31214514c5",
   "metadata": {},
   "outputs": [],
   "source": []
  }
 ],
 "metadata": {
  "kernelspec": {
   "display_name": "Python 3 (ipykernel)",
   "language": "python",
   "name": "python3"
  },
  "language_info": {
   "codemirror_mode": {
    "name": "ipython",
    "version": 3
   },
   "file_extension": ".py",
   "mimetype": "text/x-python",
   "name": "python",
   "nbconvert_exporter": "python",
   "pygments_lexer": "ipython3",
   "version": "3.10.6"
  }
 },
 "nbformat": 4,
 "nbformat_minor": 5
}
